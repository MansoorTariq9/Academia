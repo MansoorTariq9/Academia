{
 "cells": [
  {
   "cell_type": "code",
   "execution_count": 3,
   "metadata": {},
   "outputs": [],
   "source": [
    "global inverted_index\n",
    "inverted_index = {}\n",
    "\n",
    "#read the forward_index.txt file and store it in a dictionary\n",
    "with open(\"doc_index.txt\", \"r\") as f:\n",
    "    for line in f:\n",
    "        line = line.split()\n",
    "        file = line[0]\n",
    "        term_id = int(line[1])\n",
    "        positions = [int(x) for x in line[2:]]\n",
    "        if term_id not in inverted_index:\n",
    "            inverted_index[term_id] = {}\n",
    "        inverted_index[term_id][file] = positions\n",
    "\n",
    "\n",
    "previous_key=0\n",
    "#store the inverted index in a txt file in append mode\n",
    "with open(\"term_index.txt\", \"a\") as f:\n",
    "    #first store term_id\n",
    "    for key, value in inverted_index.items():\n",
    "        f.write(str(key) + \" \")\n",
    "        #then store the file name and the position\n",
    "        previous_key=0\n",
    "        for key1, value1 in value.items():\n",
    "            f.write(str(int(key1)-int(previous_key)) + \":\")\n",
    "            previous_key=key1\n",
    "            previous_i=0\n",
    "            for i in value1:\n",
    "                f.write(str(i-previous_i) + \" \")\n",
    "                previous_i=i\n",
    "\n",
    "        f.write(\"\\n\")\n",
    "\n",
    "\n",
    "doc1=0\n",
    "temp={}\n",
    "doc1={}\n",
    "pos1={}\n",
    "#read the inverted_index.txt file and store the number of occurence of each term in a dictionary temp and number of doucments in a variable\n",
    "with open(\"term_index.txt\", \"r\") as f:\n",
    "    length=0\n",
    "\n",
    "    for line in f:\n",
    "        a = line.split()\n",
    "        #if there is a : in the line then increment the number of documents\n",
    "        term_id = int(a[0])\n",
    "        pos1[term_id]=length\n",
    "\n",
    "\n",
    "        temp[term_id]=len(a)-1\n",
    "        \n",
    "        b=line.split(\":\")\n",
    "        doc1[term_id]=len(b)-1 \n",
    "\n",
    "        length=len(line)+length\n",
    "        \n",
    "\n",
    "#store the number of occurence of each term in a txt file in append mode\n",
    "with open(\"term_info.txt\", \"a\") as f:\n",
    "    for key, value in temp.items():\n",
    "        f.write(str(key) + \"/\" + str(pos1[key]) +\"/\" + str(value)+\"/\"+ str(doc1[key]) + \"\\n\")"
   ]
  }
 ],
 "metadata": {
  "kernelspec": {
   "display_name": "base",
   "language": "python",
   "name": "python3"
  },
  "language_info": {
   "codemirror_mode": {
    "name": "ipython",
    "version": 3
   },
   "file_extension": ".py",
   "mimetype": "text/x-python",
   "name": "python",
   "nbconvert_exporter": "python",
   "pygments_lexer": "ipython3",
   "version": "3.8.8"
  },
  "orig_nbformat": 4,
  "vscode": {
   "interpreter": {
    "hash": "dc07d24e2f18896857f0b2a651fe84ba40ce7b297e58d8804a308c8039f752a6"
   }
  }
 },
 "nbformat": 4,
 "nbformat_minor": 2
}
